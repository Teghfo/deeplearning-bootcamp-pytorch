{
 "cells": [
  {
   "cell_type": "code",
   "execution_count": 41,
   "metadata": {},
   "outputs": [],
   "source": [
    "import torch\n",
    "import torch.nn as nn\n",
    "import torch.optim as optim\n",
    "from torchvision import datasets, transforms\n",
    "import torch.nn.functional as F\n",
    "from torchvision.datasets import CIFAR10\n",
    "from torchvision.transforms import ToTensor\n",
    "from torch.utils.data import DataLoader\n",
    "from tqdm import tqdm"
   ]
  },
  {
   "cell_type": "code",
   "execution_count": 2,
   "metadata": {},
   "outputs": [
    {
     "name": "stdout",
     "output_type": "stream",
     "text": [
      "Downloading https://www.cs.toronto.edu/~kriz/cifar-10-python.tar.gz to ./data/cifar-10-python.tar.gz\n"
     ]
    },
    {
     "name": "stderr",
     "output_type": "stream",
     "text": [
      "100%|██████████| 170498071/170498071 [16:45<00:00, 169494.18it/s] \n"
     ]
    },
    {
     "name": "stdout",
     "output_type": "stream",
     "text": [
      "Extracting ./data/cifar-10-python.tar.gz to ./data\n",
      "Files already downloaded and verified\n"
     ]
    }
   ],
   "source": [
    "# load dataset\n",
    "train_dataset = CIFAR10(root='./data', train=True, download=True, \n",
    "                        transform=ToTensor())\n",
    "test_dataset = CIFAR10(root='./data', train=False, download=True, \n",
    "                        transform=ToTensor())\n",
    "\n",
    "# create data loader\n",
    "train_loader = DataLoader(train_dataset, batch_size=32, shuffle=True)\n",
    "test_loader = DataLoader(test_dataset, batch_size=32)"
   ]
  },
  {
   "cell_type": "code",
   "execution_count": 39,
   "metadata": {},
   "outputs": [],
   "source": [
    "device = \"cuda\" if torch.cuda.is_available() else \"cpu\"\n",
    "\n",
    "\n",
    "class CNN(nn.Module):\n",
    "    def __init__(self, in_channels, output_size):\n",
    "        super().__init__()\n",
    "        # CIFAR10 ===> 32 * 32 * 3\n",
    "        self.cnn1 = nn.Conv2d(in_channels=in_channels, out_channels=64, kernel_size=5)\n",
    "        # size ==> 28 * 28 * 64\n",
    "        self.maxpool = nn.MaxPool2d(kernel_size=2)\n",
    "        # size ==> 14 * 14 * 64\n",
    "        self.cnn2 = nn.Conv2d(in_channels=64, out_channels=128, kernel_size=5)\n",
    "        # size ===> 10 * 10 * 128\n",
    "        # max pool ==>  size ==> 5 * 5 * 128\n",
    "        self.fc1 = nn.Linear(128 * 5 * 5, 300)\n",
    "        self.fc2 = nn.Linear(300, 10)\n",
    "\n",
    "\n",
    "\n",
    "    def forward(self, x):\n",
    "        x = F.relu(self.cnn1(x))\n",
    "        x = self.maxpool(x)\n",
    "        x =  F.relu(self.cnn2(x))\n",
    "        x = self.maxpool(x)\n",
    "        x = x.view(x.size(0), -1) ### flatten\n",
    "        \n",
    "        x = F.relu(self.fc1(x))\n",
    "        x = self.fc2(x)\n",
    "        return x"
   ]
  },
  {
   "cell_type": "code",
   "execution_count": 40,
   "metadata": {},
   "outputs": [
    {
     "data": {
      "text/plain": [
       "torch.Size([32, 10])"
      ]
     },
     "execution_count": 40,
     "metadata": {},
     "output_type": "execute_result"
    }
   ],
   "source": [
    "data, _ = next(iter(train_loader))\n",
    "\n",
    "model = CNN(3, 10)\n",
    "model(data).size()\n"
   ]
  },
  {
   "cell_type": "code",
   "execution_count": 42,
   "metadata": {},
   "outputs": [],
   "source": [
    "def run(model, input_size, normal_init=False):\n",
    "  torch.manual_seed(42)\n",
    "  model.to(device=device)\n",
    "\n",
    "  # Define hyperparameters\n",
    "  learning_rate = 1e-3\n",
    "  batch_size = 64\n",
    "  num_epochs = 100\n",
    "\n",
    "  def init_weight(m):\n",
    "    if isinstance(m, nn.Linear):\n",
    "      nn.init.kaiming_normal_(m.weight)\n",
    "      nn.init.zeros_(m.bias)\n",
    "\n",
    "  if normal_init:\n",
    "    model.apply(init_weight)\n",
    "  \n",
    "  transform = transforms.Compose([\n",
    "      transforms.ToTensor(),\n",
    "      transforms.Normalize((0.5, 0.5, 0.5), (0.5, 0.5, 0.5))\n",
    "  ])\n",
    "\n",
    "  # load dataset\n",
    "  train_dataset = CIFAR10(root='./data', train=True, download=True, \n",
    "                          transform=transform)\n",
    "  test_dataset = CIFAR10(root='./data', train=False, download=True, \n",
    "                          transform=transform)\n",
    "  \n",
    "  # create data loader\n",
    "  train_loader = DataLoader(train_dataset, batch_size=batch_size, shuffle=True)\n",
    "  test_loader = DataLoader(test_dataset, batch_size=batch_size)\n",
    "\n",
    "\n",
    "  # Define the loss and optimizer\n",
    "  criterion = nn.CrossEntropyLoss()\n",
    "  optimizer = optim.Adam(model.parameters(), lr=learning_rate) # Nadam = Adam + Nesterove\n",
    "\n",
    "  # training loop\n",
    "\n",
    "  # Early stoping\n",
    "  best_accuracy = 0.0\n",
    "  patience = 5\n",
    "  epoch_num_improve = 0\n",
    "\n",
    "  for epoch in range(num_epochs):\n",
    "\n",
    "    model.train()\n",
    "    train_loss = 0.0\n",
    "    train_correct = 0\n",
    "\n",
    "    # batch\n",
    "    for images, labels in tqdm(train_loader):\n",
    "\n",
    "\n",
    "      images = images.to(device=device)\n",
    "      labels = labels.to(device=device)\n",
    "      \n",
    "      # Forward pass\n",
    "      output = model(images)\n",
    "      loss = criterion(output, labels)\n",
    "\n",
    "      # TODO: every 4 batch, update?!\n",
    "      # Backward and optimize\n",
    "      optimizer.zero_grad()\n",
    "      loss.backward()\n",
    "      optimizer.step()\n",
    "\n",
    "      train_loss += loss.item()\n",
    "      _, predicted = torch.max(output.data, 1)\n",
    "      train_correct += (predicted == labels).sum().item()\n",
    "    train_accuracy = train_correct / len(train_dataset)\n",
    "    train_loss /= len(train_loader)\n",
    "\n",
    "    # Evaluate\n",
    "    model.eval()\n",
    "    test_correct = 0\n",
    "\n",
    "    with torch.no_grad():\n",
    "      for images, labels in test_loader:\n",
    "\n",
    "        images = images.to(device=device)\n",
    "        labels = labels.to(device=device)\n",
    "\n",
    "        output = model(images)\n",
    "\n",
    "        _, predicted = torch.max(output.data, 1)\n",
    "        test_correct += (predicted == labels).sum().item()\n",
    "    test_accuracy = test_correct / len(test_dataset)\n",
    "\n",
    "    print(f\"Epoch: {epoch + 1}/{num_epochs} | Train loss: {train_loss:.4f} | Train Acc: {train_accuracy:.4f} | Test Acc: {test_accuracy:.4f}\")\n",
    "\n",
    "    # Early stopping + save Checkpoint\n",
    "    if test_accuracy > best_accuracy:\n",
    "      best_accuracy = test_accuracy\n",
    "      epoch_num_improve = 0\n",
    "      torch.save(model.state_dict(), \"best_model.pth\")\n",
    "    else:\n",
    "      epoch_num_improve += 1\n",
    "      if epoch_num_improve > patience:\n",
    "        print(f\"Early stopping, best accuracy {best_accuracy}\")\n",
    "        break"
   ]
  },
  {
   "cell_type": "code",
   "execution_count": null,
   "metadata": {},
   "outputs": [],
   "source": [
    "input_size = 32 * 32 * 3 # CIFAR10 color image(RGB), pixels with 3 channels\n",
    "hidden_size = 100\n",
    "num_layers = 20\n",
    "output_size = 10\n",
    "\n",
    "model = CNN(3, 10)\n",
    "run(model, input_size)"
   ]
  }
 ],
 "metadata": {
  "kernelspec": {
   "display_name": "venv",
   "language": "python",
   "name": "python3"
  },
  "language_info": {
   "codemirror_mode": {
    "name": "ipython",
    "version": 3
   },
   "file_extension": ".py",
   "mimetype": "text/x-python",
   "name": "python",
   "nbconvert_exporter": "python",
   "pygments_lexer": "ipython3",
   "version": "3.8.10"
  }
 },
 "nbformat": 4,
 "nbformat_minor": 2
}
