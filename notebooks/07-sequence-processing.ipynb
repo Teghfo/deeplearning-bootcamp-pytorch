{
 "cells": [
  {
   "cell_type": "code",
   "execution_count": 1,
   "metadata": {},
   "outputs": [],
   "source": [
    "import os\n",
    "\n",
    "import torch\n",
    "import torch.nn as nn\n",
    "import torch.nn.functional as F\n",
    "from torch.utils.data import Dataset, DataLoader\n",
    "import torch.optim as optim\n",
    "from sklearn.datasets import  fetch_california_housing\n",
    "from sklearn.model_selection import train_test_split\n",
    "from sklearn.preprocessing import StandardScaler\n",
    "from torchvision import transforms\n",
    "from tqdm import tqdm"
   ]
  },
  {
   "cell_type": "code",
   "execution_count": 3,
   "metadata": {},
   "outputs": [
    {
     "name": "stdout",
     "output_type": "stream",
     "text": [
      "--2024-02-22 11:22:22--  https://download.pytorch.org/tutorial/data.zip\n",
      "Resolving download.pytorch.org (download.pytorch.org)... 108.138.26.43, 108.138.26.24, 108.138.26.16, ...\n",
      "Connecting to download.pytorch.org (download.pytorch.org)|108.138.26.43|:443... connected.\n",
      "HTTP request sent, awaiting response... 200 OK\n",
      "Length: 2882130 (2.7M) [application/zip]\n",
      "Saving to: ‘data.zip.1’\n",
      "\n",
      "data.zip.1          100%[===================>]   2.75M  2.14MB/s    in 1.3s    \n",
      "\n",
      "2024-02-22 11:22:24 (2.14 MB/s) - ‘data.zip.1’ saved [2882130/2882130]\n",
      "\n"
     ]
    }
   ],
   "source": [
    "!wget https://download.pytorch.org/tutorial/data.zip"
   ]
  },
  {
   "cell_type": "code",
   "execution_count": null,
   "metadata": {},
   "outputs": [],
   "source": [
    "!unzip data.zip "
   ]
  },
  {
   "cell_type": "code",
   "execution_count": 2,
   "metadata": {},
   "outputs": [],
   "source": [
    "BASE_DIR = 'data/names/'"
   ]
  },
  {
   "cell_type": "code",
   "execution_count": 3,
   "metadata": {},
   "outputs": [
    {
     "data": {
      "text/plain": [
       "['Scottish.txt',\n",
       " 'Vietnamese.txt',\n",
       " 'Korean.txt',\n",
       " 'Irish.txt',\n",
       " 'French.txt',\n",
       " 'Italian.txt',\n",
       " 'Czech.txt',\n",
       " 'Chinese.txt',\n",
       " 'Dutch.txt',\n",
       " 'Portuguese.txt',\n",
       " 'Arabic.txt',\n",
       " 'Greek.txt',\n",
       " 'English.txt',\n",
       " 'Russian.txt',\n",
       " 'Spanish.txt',\n",
       " 'Japanese.txt',\n",
       " 'German.txt',\n",
       " 'Polish.txt']"
      ]
     },
     "execution_count": 3,
     "metadata": {},
     "output_type": "execute_result"
    }
   ],
   "source": [
    "os.listdir(BASE_DIR)"
   ]
  },
  {
   "cell_type": "code",
   "execution_count": 6,
   "metadata": {},
   "outputs": [
    {
     "data": {
      "text/plain": [
       "\"abcdefghijklmnopqrstuvwxyzABCDEFGHIJKLMNOPQRSTUVWXYZ .,;'-\""
      ]
     },
     "execution_count": 6,
     "metadata": {},
     "output_type": "execute_result"
    }
   ],
   "source": [
    "from string import ascii_letters\n",
    "\n",
    "all_letters = ascii_letters + \" .,;'-\"\n",
    "n_letters = len(all_letters)\n",
    "n_letters\n",
    "all_letters"
   ]
  },
  {
   "cell_type": "code",
   "execution_count": 8,
   "metadata": {},
   "outputs": [
    {
     "name": "stdout",
     "output_type": "stream",
     "text": [
      "Slusarski\n"
     ]
    }
   ],
   "source": [
    "import unicodedata\n",
    "\n",
    "def unicodeToAscii(s):\n",
    "    return ''.join(\n",
    "        c for c in unicodedata.normalize('NFD', s)\n",
    "        if unicodedata.category(c) != 'Mn'\n",
    "        and c in all_letters\n",
    "    )\n",
    "\n",
    "print(unicodeToAscii('Ślusàrski'))"
   ]
  },
  {
   "cell_type": "code",
   "execution_count": 9,
   "metadata": {},
   "outputs": [],
   "source": [
    "all_category = {}\n",
    "\n",
    "for filename in os.listdir(BASE_DIR):\n",
    "    lang_name = filename.split(\".\")[0]\n",
    "    with open(os.path.join(BASE_DIR, filename), \"r\") as f:\n",
    "        all_category[lang_name] = [unicodeToAscii(name) for name in f.readlines()]"
   ]
  },
  {
   "cell_type": "code",
   "execution_count": 18,
   "metadata": {},
   "outputs": [
    {
     "data": {
      "text/plain": [
       "['Abandonato', 'Abatangelo', 'Abatantuono', 'Abate', 'Abategiovanni']"
      ]
     },
     "execution_count": 18,
     "metadata": {},
     "output_type": "execute_result"
    }
   ],
   "source": [
    "all_category[\"Italian\"][:5]"
   ]
  },
  {
   "cell_type": "code",
   "execution_count": 13,
   "metadata": {},
   "outputs": [
    {
     "data": {
      "text/plain": [
       "torch.Size([8, 1, 58])"
      ]
     },
     "execution_count": 13,
     "metadata": {},
     "output_type": "execute_result"
    }
   ],
   "source": [
    "def findIndex(char):\n",
    "    return all_letters.find(char)\n",
    "\n",
    "def letter2vec(char) -> torch.Tensor:\n",
    "    result = torch.zeros(n_letters)\n",
    "    result[findIndex(char)] = 1\n",
    "    return result\n",
    "\n",
    "def word2vec(word: str) -> torch.Tensor:\n",
    "    # [seqLength, letterVecLength]\n",
    "    result = torch.zeros(len(word), n_letters)\n",
    "    # encoding for every character in the word!\n",
    "    for i, char in enumerate(word):\n",
    "        result[i] = letter2vec(char)\n",
    "    # batch_size = 1\n",
    "    return result.unsqueeze(1)\n",
    "\n",
    "word2vec('Shalgham').size()"
   ]
  },
  {
   "cell_type": "code",
   "execution_count": 34,
   "metadata": {},
   "outputs": [],
   "source": [
    "rnn = nn.RNN(10, 20, 2)\n",
    "input = torch.randn(5, 3, 10)\n",
    "h0 = torch.randn(2, 3, 20)\n",
    "output, hn = rnn(input, h0)"
   ]
  },
  {
   "cell_type": "code",
   "execution_count": 14,
   "metadata": {},
   "outputs": [],
   "source": [
    "class RNN(nn.Module):\n",
    "    def __init__(self, input_size, hidden_size, output_size):\n",
    "        super(RNN, self).__init__()\n",
    "\n",
    "        self.hidden_size = hidden_size\n",
    "\n",
    "        self.i2h = nn.Linear(input_size + hidden_size, hidden_size)\n",
    "        self.h2o = nn.Linear(hidden_size, output_size)\n",
    "        \n",
    "\n",
    "    def forward(self, input, hidden):\n",
    "        combined = torch.cat((input, hidden), 1)\n",
    "        hidden = F.tanh(self.i2h(combined))\n",
    "        output = self.h2o(hidden)\n",
    "        return output, hidden\n",
    "\n",
    "    def initHidden(self):\n",
    "        return torch.zeros(1, self.hidden_size)\n",
    "\n",
    "n_hidden = 128\n",
    "n_categories = len(all_category)\n",
    "rnn = RNN(n_letters, n_hidden, n_categories)"
   ]
  },
  {
   "cell_type": "code",
   "execution_count": 53,
   "metadata": {},
   "outputs": [
    {
     "data": {
      "text/plain": [
       "torch.Size([1, 18])"
      ]
     },
     "execution_count": 53,
     "metadata": {},
     "output_type": "execute_result"
    }
   ],
   "source": [
    "input = letter2vec('A').unsqueeze(0)\n",
    "hidden = rnn.initHidden()\n",
    "\n",
    "output, next_hidden = rnn(input, hidden)\n",
    "output.size()"
   ]
  },
  {
   "cell_type": "code",
   "execution_count": 16,
   "metadata": {},
   "outputs": [
    {
     "name": "stdout",
     "output_type": "stream",
     "text": [
      "tensor([[-0.0600,  0.0108,  0.0827,  0.0740,  0.0695,  0.0083,  0.0758, -0.1013,\n",
      "         -0.0188, -0.0473, -0.0691, -0.0545, -0.0612, -0.0666, -0.0127, -0.0908,\n",
      "          0.0555,  0.0888]], grad_fn=<AddmmBackward0>)\n"
     ]
    }
   ],
   "source": [
    "input = word2vec('Albert')\n",
    "hidden = rnn.initHidden()\n",
    "\n",
    "output, next_hidden = rnn(input[0], hidden)\n",
    "print(output)"
   ]
  },
  {
   "cell_type": "code",
   "execution_count": 22,
   "metadata": {},
   "outputs": [
    {
     "data": {
      "text/plain": [
       "['Scottish',\n",
       " 'Vietnamese',\n",
       " 'Korean',\n",
       " 'Irish',\n",
       " 'French',\n",
       " 'Italian',\n",
       " 'Czech',\n",
       " 'Chinese',\n",
       " 'Dutch',\n",
       " 'Portuguese',\n",
       " 'Arabic',\n",
       " 'Greek',\n",
       " 'English',\n",
       " 'Russian',\n",
       " 'Spanish',\n",
       " 'Japanese',\n",
       " 'German',\n",
       " 'Polish']"
      ]
     },
     "execution_count": 22,
     "metadata": {},
     "output_type": "execute_result"
    }
   ],
   "source": [
    "labels_ = list(all_category.keys())\n",
    "labels_"
   ]
  },
  {
   "cell_type": "code",
   "execution_count": 21,
   "metadata": {},
   "outputs": [],
   "source": [
    "dataset = []\n",
    "for label in all_category:\n",
    "    for word in all_category.get(label):\n",
    "        dataset.append((word2vec(word), torch.tensor(labels_.index(label)).long().unsqueeze(0)))\n"
   ]
  },
  {
   "cell_type": "code",
   "execution_count": 23,
   "metadata": {},
   "outputs": [
    {
     "name": "stdout",
     "output_type": "stream",
     "text": [
      "torch.Size([5, 1, 58])\n",
      "tensor([0])\n"
     ]
    }
   ],
   "source": [
    "for data, label in dataset:\n",
    "    print(data.size())\n",
    "    print(label)\n",
    "    break"
   ]
  },
  {
   "cell_type": "code",
   "execution_count": 24,
   "metadata": {},
   "outputs": [],
   "source": [
    "from sklearn.model_selection import train_test_split\n",
    "\n",
    "train_data, test_data = train_test_split(dataset, test_size=0.2, shuffle=True, random_state=42)"
   ]
  },
  {
   "cell_type": "code",
   "execution_count": 26,
   "metadata": {},
   "outputs": [
    {
     "name": "stdout",
     "output_type": "stream",
     "text": [
      "torch.Size([9, 1, 58])\n",
      "tensor([13])\n"
     ]
    }
   ],
   "source": [
    "for data, label in train_data:\n",
    "    print(data.size())\n",
    "    print(label)\n",
    "    break"
   ]
  },
  {
   "cell_type": "code",
   "execution_count": 27,
   "metadata": {},
   "outputs": [
    {
     "name": "stdout",
     "output_type": "stream",
     "text": [
      "train_size 16059\n",
      "test_size 4015\n"
     ]
    }
   ],
   "source": [
    "print(\"train_size\", len(train_data))\n",
    "print(\"test_size\", len(test_data))"
   ]
  },
  {
   "cell_type": "code",
   "execution_count": 32,
   "metadata": {},
   "outputs": [],
   "source": [
    "learning_rate = 0.001\n",
    "\n",
    "criterion = nn.CrossEntropyLoss()\n",
    "optimizer = optim.Adam(rnn.parameters(), lr=learning_rate)"
   ]
  },
  {
   "cell_type": "code",
   "execution_count": 30,
   "metadata": {},
   "outputs": [
    {
     "name": "stdout",
     "output_type": "stream",
     "text": [
      "torch.Size([1, 58])\n",
      "torch.Size([1, 58])\n",
      "torch.Size([1, 58])\n",
      "torch.Size([1, 58])\n",
      "torch.Size([1, 58])\n",
      "torch.Size([1, 58])\n",
      "torch.Size([1, 58])\n",
      "torch.Size([1, 58])\n",
      "torch.Size([1, 58])\n"
     ]
    }
   ],
   "source": [
    "data, label = next(iter(train_data))\n",
    "for elm in data:\n",
    "    print(elm.size())"
   ]
  },
  {
   "cell_type": "code",
   "execution_count": 36,
   "metadata": {},
   "outputs": [
    {
     "name": "stdout",
     "output_type": "stream",
     "text": [
      "Epoch1/3 | Step: 0/16059 | loss: 0.1533963829278946\n",
      "Epoch1/3 | Step: 3000/16059 | loss: 0.08053922653198242\n",
      "Epoch1/3 | Step: 6000/16059 | loss: 2.7965054512023926\n",
      "Epoch1/3 | Step: 9000/16059 | loss: 1.626822590827942\n",
      "Epoch1/3 | Step: 12000/16059 | loss: 0.14609412848949432\n",
      "Epoch1/3 | Step: 15000/16059 | loss: 0.01434278767555952\n",
      "Epoch2/3 | Step: 0/16059 | loss: 0.6373049020767212\n",
      "Epoch2/3 | Step: 3000/16059 | loss: 0.10608932375907898\n",
      "Epoch2/3 | Step: 6000/16059 | loss: 2.552569627761841\n",
      "Epoch2/3 | Step: 9000/16059 | loss: 2.259949207305908\n",
      "Epoch2/3 | Step: 12000/16059 | loss: 0.1402139812707901\n",
      "Epoch2/3 | Step: 15000/16059 | loss: 0.004119719844311476\n",
      "Epoch3/3 | Step: 0/16059 | loss: 0.25335437059402466\n",
      "Epoch3/3 | Step: 3000/16059 | loss: 0.028626656159758568\n",
      "Epoch3/3 | Step: 6000/16059 | loss: 2.337625026702881\n",
      "Epoch3/3 | Step: 9000/16059 | loss: 0.9881576895713806\n",
      "Epoch3/3 | Step: 12000/16059 | loss: 0.026338184252381325\n",
      "Epoch3/3 | Step: 15000/16059 | loss: 0.0037486536893993616\n"
     ]
    }
   ],
   "source": [
    "from random import shuffle\n",
    "# train_loop\n",
    "\n",
    "epoch_num = 3\n",
    "\n",
    "rnn.train()\n",
    "for epoch in range(epoch_num):\n",
    "    shuffle(train_data)\n",
    "    for i, (data, label) in enumerate(train_data):\n",
    "        hidden = rnn.initHidden()\n",
    "        for charVec in data:\n",
    "            output, hidden = rnn(charVec, hidden)\n",
    "        loss = criterion(output, label)\n",
    "\n",
    "        optimizer.zero_grad()\n",
    "        loss.backward()\n",
    "        optimizer.step()\n",
    "\n",
    "        if i % 3000 == 0:\n",
    "            print(f\"Epoch{epoch + 1}/{epoch_num} | Step: {i}/{len(train_data)} | loss: {loss.item()}\")"
   ]
  },
  {
   "cell_type": "code",
   "execution_count": 41,
   "metadata": {},
   "outputs": [
    {
     "data": {
      "text/plain": [
       "tensor([[-2.2384, -2.8640, -1.1613, -2.6243, -2.8200, -0.5234, -0.3238, -0.9883,\n",
       "         -1.6166, -3.7954, -7.4164, -1.2244, -0.1587,  5.5800, -1.0634,  2.1558,\n",
       "         -0.7491,  1.2025]], grad_fn=<AddmmBackward0>)"
      ]
     },
     "execution_count": 41,
     "metadata": {},
     "output_type": "execute_result"
    }
   ],
   "source": [
    "output"
   ]
  },
  {
   "cell_type": "code",
   "execution_count": 48,
   "metadata": {},
   "outputs": [
    {
     "name": "stdout",
     "output_type": "stream",
     "text": [
      "Accuracy: 74.5205%\n"
     ]
    }
   ],
   "source": [
    "# test loop\n",
    "\n",
    "rnn.eval()\n",
    "correct = 0\n",
    "output\n",
    "for data, label in test_data:\n",
    "    hidden = rnn.initHidden()\n",
    "    for charVec in data:\n",
    "        output, hidden = rnn(charVec, hidden)\n",
    "    predict = output.argmax(dim=1)\n",
    "    correct += (predict == label).item()\n",
    "\n",
    "print(f\"Accuracy: {(correct / len((test_data))*100):.4f}%\")"
   ]
  },
  {
   "cell_type": "code",
   "execution_count": 49,
   "metadata": {},
   "outputs": [],
   "source": [
    "def predict_lan(word, model):\n",
    "    model.eval()\n",
    "    hidden = model.initHidden()\n",
    "    for charVec in word2vec(word):\n",
    "        output, hidden = model(charVec, hidden)\n",
    "    return labels_[output.argmax(dim=1).item()]\n",
    "    "
   ]
  },
  {
   "cell_type": "code",
   "execution_count": 58,
   "metadata": {},
   "outputs": [
    {
     "data": {
      "text/plain": [
       "'English'"
      ]
     },
     "execution_count": 58,
     "metadata": {},
     "output_type": "execute_result"
    }
   ],
   "source": [
    "predict_lan(\"Brad\", rnn)"
   ]
  },
  {
   "cell_type": "code",
   "execution_count": 67,
   "metadata": {},
   "outputs": [],
   "source": [
    "class RNNTorch(nn.Module):\n",
    "    def __init__(self, input_size, hidden_size, output_size, num_layers=1):\n",
    "        super().__init__()\n",
    "\n",
    "        self.hidden_size = hidden_size\n",
    "        self.num_layers = num_layers\n",
    "        \n",
    "        self.rnn = nn.RNN(input_size, hidden_size, num_layers=num_layers)\n",
    "        self.fc = nn.Linear(hidden_size, output_size)\n",
    "        \n",
    "\n",
    "    def forward(self, x):\n",
    "        h = self.initHidden()\n",
    "        x, _ = self.rnn(x, h)\n",
    "        output = self.fc(x[-1])\n",
    "        return output\n",
    "\n",
    "    def initHidden(self):\n",
    "        return torch.zeros(self.num_layers, 1, self.hidden_size)"
   ]
  },
  {
   "cell_type": "code",
   "execution_count": 70,
   "metadata": {},
   "outputs": [],
   "source": [
    "n_hidden = 128\n",
    "n_categories = len(all_category)\n",
    "model = RNNTorch(n_letters, n_hidden, n_categories)\n",
    "criterion = nn.CrossEntropyLoss()\n",
    "optimizer = optim.Adam(model.parameters(), lr= 0.001)"
   ]
  },
  {
   "cell_type": "code",
   "execution_count": 68,
   "metadata": {},
   "outputs": [],
   "source": [
    "from random import shuffle\n",
    "\n",
    "def train(model,  epoch_num = 3):\n",
    "    model.train()\n",
    "    for epoch in range(epoch_num):\n",
    "        shuffle(train_data)\n",
    "        for i, (data, label) in enumerate(train_data):\n",
    "            output = model(data)\n",
    "            loss = criterion(output, label)\n",
    "\n",
    "            optimizer.zero_grad()\n",
    "            loss.backward()\n",
    "            optimizer.step()\n",
    "\n",
    "            if i % 3000 == 0:\n",
    "                print(f\"Epoch{epoch + 1}/{epoch_num} | Step: {i}/{len(train_data)} | loss: {loss.item()}\")"
   ]
  },
  {
   "cell_type": "code",
   "execution_count": 71,
   "metadata": {},
   "outputs": [
    {
     "name": "stdout",
     "output_type": "stream",
     "text": [
      "Epoch1/3 | Step: 0/16059 | loss: 2.8471620082855225\n",
      "Epoch1/3 | Step: 3000/16059 | loss: 1.1972882747650146\n",
      "Epoch1/3 | Step: 6000/16059 | loss: 1.2095849514007568\n",
      "Epoch1/3 | Step: 9000/16059 | loss: 0.7750042676925659\n",
      "Epoch1/3 | Step: 12000/16059 | loss: 0.4703407883644104\n",
      "Epoch1/3 | Step: 15000/16059 | loss: 0.3705781102180481\n",
      "Epoch2/3 | Step: 0/16059 | loss: 0.026021268218755722\n",
      "Epoch2/3 | Step: 3000/16059 | loss: 2.0122952461242676\n",
      "Epoch2/3 | Step: 6000/16059 | loss: 1.5778460502624512\n",
      "Epoch2/3 | Step: 9000/16059 | loss: 0.043493784964084625\n",
      "Epoch2/3 | Step: 12000/16059 | loss: 2.667238712310791\n",
      "Epoch2/3 | Step: 15000/16059 | loss: 0.6212583780288696\n",
      "Epoch3/3 | Step: 0/16059 | loss: 0.0011263700434938073\n",
      "Epoch3/3 | Step: 3000/16059 | loss: 0.28189361095428467\n",
      "Epoch3/3 | Step: 6000/16059 | loss: 0.0012041230220347643\n",
      "Epoch3/3 | Step: 9000/16059 | loss: 0.13934014737606049\n",
      "Epoch3/3 | Step: 12000/16059 | loss: 0.06082049757242203\n",
      "Epoch3/3 | Step: 15000/16059 | loss: 2.0688114166259766\n"
     ]
    }
   ],
   "source": [
    "train(model)"
   ]
  },
  {
   "cell_type": "code",
   "execution_count": 73,
   "metadata": {},
   "outputs": [],
   "source": [
    "def predict_lan_torchrnn(word, model):\n",
    "    output = model(word2vec(word))\n",
    "    return labels_[output.argmax(dim=1).item()]"
   ]
  },
  {
   "cell_type": "code",
   "execution_count": 75,
   "metadata": {},
   "outputs": [],
   "source": [
    "def test(model):\n",
    "    model.eval()\n",
    "    correct = 0\n",
    "    for data, label in test_data:\n",
    "        output= model(data)\n",
    "        predict = output.argmax(dim=1)\n",
    "        correct += (predict == label).item()\n",
    "\n",
    "    print(f\"Accuracy: {(correct / len((test_data))*100):.4f}%\")"
   ]
  },
  {
   "cell_type": "code",
   "execution_count": 76,
   "metadata": {},
   "outputs": [
    {
     "name": "stdout",
     "output_type": "stream",
     "text": [
      "Accuracy: 74.4956%\n"
     ]
    }
   ],
   "source": [
    "test(model)"
   ]
  },
  {
   "cell_type": "code",
   "execution_count": 78,
   "metadata": {},
   "outputs": [],
   "source": [
    "class GRU(nn.Module):\n",
    "    def __init__(self, input_size, hidden_size, output_size, num_layers=1):\n",
    "        super().__init__()\n",
    "\n",
    "        self.hidden_size = hidden_size\n",
    "        self.num_layers = num_layers\n",
    "        \n",
    "        self.gru = nn.GRU(input_size, hidden_size, num_layers=num_layers)\n",
    "        self.fc = nn.Linear(hidden_size, output_size)\n",
    "        \n",
    "\n",
    "    def forward(self, x):\n",
    "        h = self.initHidden()\n",
    "        x, _ = self.gru(x, h)\n",
    "        output = self.fc(x[-1])\n",
    "        return output\n",
    "\n",
    "    def initHidden(self):\n",
    "        return torch.zeros(self.num_layers, 1, self.hidden_size)"
   ]
  },
  {
   "cell_type": "code",
   "execution_count": 79,
   "metadata": {},
   "outputs": [],
   "source": [
    "n_hidden = 128\n",
    "n_categories = len(all_category)\n",
    "model = GRU(n_letters, n_hidden, n_categories)\n",
    "criterion = nn.CrossEntropyLoss()\n",
    "optimizer = optim.Adam(model.parameters(), lr= 0.001)"
   ]
  },
  {
   "cell_type": "code",
   "execution_count": 80,
   "metadata": {},
   "outputs": [
    {
     "name": "stdout",
     "output_type": "stream",
     "text": [
      "Epoch1/3 | Step: 0/16059 | loss: 2.803572654724121\n",
      "Epoch1/3 | Step: 3000/16059 | loss: 0.9476546049118042\n",
      "Epoch1/3 | Step: 6000/16059 | loss: 0.9676955342292786\n",
      "Epoch1/3 | Step: 9000/16059 | loss: 0.02496783807873726\n",
      "Epoch1/3 | Step: 12000/16059 | loss: 0.005485719535499811\n",
      "Epoch1/3 | Step: 15000/16059 | loss: 0.0013106813421472907\n",
      "Epoch2/3 | Step: 0/16059 | loss: 0.5188653469085693\n",
      "Epoch2/3 | Step: 3000/16059 | loss: 0.00022635281493421644\n",
      "Epoch2/3 | Step: 6000/16059 | loss: 0.0007683662115596235\n",
      "Epoch2/3 | Step: 9000/16059 | loss: 0.6819219589233398\n",
      "Epoch2/3 | Step: 12000/16059 | loss: 0.010615547187626362\n",
      "Epoch2/3 | Step: 15000/16059 | loss: 2.9990482330322266\n",
      "Epoch3/3 | Step: 0/16059 | loss: 1.4543427823809907e-05\n",
      "Epoch3/3 | Step: 3000/16059 | loss: 0.01032357756048441\n",
      "Epoch3/3 | Step: 6000/16059 | loss: 0.05435812473297119\n",
      "Epoch3/3 | Step: 9000/16059 | loss: 0.9762640595436096\n",
      "Epoch3/3 | Step: 12000/16059 | loss: 2.2053474822314456e-05\n",
      "Epoch3/3 | Step: 15000/16059 | loss: 0.05187774822115898\n"
     ]
    }
   ],
   "source": [
    "train(model)"
   ]
  },
  {
   "cell_type": "code",
   "execution_count": 81,
   "metadata": {},
   "outputs": [
    {
     "name": "stdout",
     "output_type": "stream",
     "text": [
      "Accuracy: 82.4408%\n"
     ]
    }
   ],
   "source": [
    "test(model)"
   ]
  },
  {
   "cell_type": "code",
   "execution_count": 82,
   "metadata": {},
   "outputs": [],
   "source": [
    "n_hidden = 128\n",
    "n_categories = len(all_category)\n",
    "model = GRU(n_letters, n_hidden, n_categories, num_layers=2)\n",
    "criterion = nn.CrossEntropyLoss()\n",
    "optimizer = optim.Adam(model.parameters(), lr= 0.001)"
   ]
  },
  {
   "cell_type": "code",
   "execution_count": 83,
   "metadata": {},
   "outputs": [
    {
     "name": "stdout",
     "output_type": "stream",
     "text": [
      "Epoch1/3 | Step: 0/16059 | loss: 2.8702852725982666\n",
      "Epoch1/3 | Step: 3000/16059 | loss: 0.028216827660799026\n",
      "Epoch1/3 | Step: 6000/16059 | loss: 6.147946357727051\n",
      "Epoch1/3 | Step: 9000/16059 | loss: 3.233870267868042\n",
      "Epoch1/3 | Step: 12000/16059 | loss: 0.4650093615055084\n",
      "Epoch1/3 | Step: 15000/16059 | loss: 0.0010240792762488127\n",
      "Epoch2/3 | Step: 0/16059 | loss: 0.00775008462369442\n",
      "Epoch2/3 | Step: 3000/16059 | loss: 3.5142769813537598\n",
      "Epoch2/3 | Step: 6000/16059 | loss: 0.0770866870880127\n",
      "Epoch2/3 | Step: 9000/16059 | loss: 0.007830873131752014\n",
      "Epoch2/3 | Step: 12000/16059 | loss: 0.41017746925354004\n",
      "Epoch2/3 | Step: 15000/16059 | loss: 0.008607430383563042\n",
      "Epoch3/3 | Step: 0/16059 | loss: 3.0312552452087402\n",
      "Epoch3/3 | Step: 3000/16059 | loss: 4.695867538452148\n",
      "Epoch3/3 | Step: 6000/16059 | loss: 0.09136418253183365\n",
      "Epoch3/3 | Step: 9000/16059 | loss: 0.001149708521552384\n",
      "Epoch3/3 | Step: 12000/16059 | loss: 0.03540949895977974\n",
      "Epoch3/3 | Step: 15000/16059 | loss: 2.3978610038757324\n"
     ]
    }
   ],
   "source": [
    "train(model)"
   ]
  },
  {
   "cell_type": "code",
   "execution_count": 84,
   "metadata": {},
   "outputs": [
    {
     "name": "stdout",
     "output_type": "stream",
     "text": [
      "Accuracy: 82.6899%\n"
     ]
    }
   ],
   "source": [
    "test(model)"
   ]
  },
  {
   "cell_type": "code",
   "execution_count": 89,
   "metadata": {},
   "outputs": [
    {
     "data": {
      "text/plain": [
       "'Japanese'"
      ]
     },
     "execution_count": 89,
     "metadata": {},
     "output_type": "execute_result"
    }
   ],
   "source": [
    "predict_lan_torchrnn(\"Yoshua\", model)"
   ]
  }
 ],
 "metadata": {
  "kernelspec": {
   "display_name": "venv",
   "language": "python",
   "name": "python3"
  },
  "language_info": {
   "codemirror_mode": {
    "name": "ipython",
    "version": 3
   },
   "file_extension": ".py",
   "mimetype": "text/x-python",
   "name": "python",
   "nbconvert_exporter": "python",
   "pygments_lexer": "ipython3",
   "version": "3.8.10"
  }
 },
 "nbformat": 4,
 "nbformat_minor": 2
}
