{
  "nbformat": 4,
  "nbformat_minor": 0,
  "metadata": {
    "colab": {
      "provenance": []
    },
    "kernelspec": {
      "name": "python3",
      "display_name": "Python 3"
    },
    "language_info": {
      "name": "python"
    }
  },
  "cells": [
    {
      "cell_type": "code",
      "execution_count": 1,
      "metadata": {
        "id": "1dXg7GYtM0PD"
      },
      "outputs": [],
      "source": [
        "import torch\n",
        "import torch.nn as nn\n",
        "from torch.utils.data import Dataset, DataLoader\n",
        "from torchvision import transforms, datasets\n",
        "import torch.nn.functional as F"
      ]
    },
    {
      "cell_type": "code",
      "source": [
        "#### Hyperparameter\n",
        "batch_size = 16\n",
        "patch_size = 16"
      ],
      "metadata": {
        "id": "62ZwnBaDPT9v"
      },
      "execution_count": 3,
      "outputs": []
    },
    {
      "cell_type": "code",
      "source": [
        "transform = transforms.Compose([\n",
        "    transforms.Resize(256),\n",
        "    transforms.RandomResizedCrop(224),\n",
        "    transforms.RandomHorizontalFlip(),\n",
        "    transforms.ToTensor(),\n",
        "    transforms.Normalize((0.5071, 0.4867, 0.4408), (0.2675, 0.2565, 0.2761))\n",
        "])\n",
        "\n",
        "\n",
        "train_ds = datasets.CIFAR100(root=\"./data\", download=True, train=True, transform=transform)\n",
        "train_dl = DataLoader(train_ds, batch_size=batch_size, shuffle=True)"
      ],
      "metadata": {
        "id": "qoVFWATqN3Bw"
      },
      "execution_count": null,
      "outputs": []
    },
    {
      "cell_type": "code",
      "source": [
        "print(\"data batch size: {}\".format(next(iter(train_dl))[0].size()))"
      ],
      "metadata": {
        "colab": {
          "base_uri": "https://localhost:8080/"
        },
        "id": "puLHLXGFPvQJ",
        "outputId": "677474a5-4148-42cd-e358-412a51af61e5"
      },
      "execution_count": 7,
      "outputs": [
        {
          "output_type": "stream",
          "name": "stdout",
          "text": [
            "data batch size: torch.Size([16, 3, 224, 224])\n"
          ]
        }
      ]
    },
    {
      "cell_type": "code",
      "source": [
        "## step 1: patchify Layer\n",
        "class PatchLayer(nn.Module):\n",
        "    def __init__(self, patch_size):\n",
        "        self.patch_size = patch_size\n",
        "\n",
        "    # input = (N, C, H, W) ===> return = (N, CHW/ P^2, P^2)\n",
        "    def forward(self, x: torch.Tensor) -> torch.Tensor:\n",
        "        pass"
      ],
      "metadata": {
        "id": "XwqB4CMMNw62"
      },
      "execution_count": null,
      "outputs": []
    },
    {
      "cell_type": "code",
      "source": [
        "## step 2: Map Layer\n",
        "class LinearMap(nn.Module):\n",
        "    def __init__(self, hidden_size):\n",
        "        pass\n",
        "\n",
        "    # input = (N, S, d) ===> return = (N, S, d')\n",
        "    def forward(self, x: torch.Tensor) -> torch.Tensor:\n",
        "        pass"
      ],
      "metadata": {
        "id": "jNQ4HKZtQg9x"
      },
      "execution_count": null,
      "outputs": []
    },
    {
      "cell_type": "code",
      "source": [
        "## step 3: Positional Encoding\n",
        "class PositionalEncoding(nn.Module):\n",
        "    def __init__(self):\n",
        "        pass\n",
        "\n",
        "    def forward(self, x: torch.Tensor) -> torch.Tensor:\n",
        "        pass"
      ],
      "metadata": {
        "id": "vg8oTAhCQ4tE"
      },
      "execution_count": null,
      "outputs": []
    },
    {
      "cell_type": "code",
      "source": [
        "## step 4: Transformer Block"
      ],
      "metadata": {
        "id": "8zShdYCoREeC"
      },
      "execution_count": null,
      "outputs": []
    },
    {
      "cell_type": "code",
      "source": [
        "## step 5: classifier Block"
      ],
      "metadata": {
        "id": "ZKAjM3FIRMY2"
      },
      "execution_count": null,
      "outputs": []
    },
    {
      "cell_type": "code",
      "source": [
        "class VIT(nn.Module):\n",
        "    pass"
      ],
      "metadata": {
        "id": "jUXo3VDeRPNY"
      },
      "execution_count": null,
      "outputs": []
    }
  ]
}