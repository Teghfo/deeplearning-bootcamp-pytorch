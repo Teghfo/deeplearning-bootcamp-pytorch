{
 "cells": [
  {
   "cell_type": "code",
   "execution_count": 32,
   "metadata": {},
   "outputs": [],
   "source": [
    "import torch\n",
    "import torch.nn as nn\n",
    "import torch.nn.functional as F\n",
    "from torch.utils.data import Dataset, DataLoader\n",
    "import torch.optim as optim\n",
    "from sklearn.datasets import  fetch_california_housing\n",
    "from sklearn.model_selection import train_test_split\n",
    "from sklearn.preprocessing import StandardScaler\n",
    "from torchvision import transforms\n",
    "from tqdm import tqdm"
   ]
  },
  {
   "cell_type": "code",
   "execution_count": 2,
   "metadata": {},
   "outputs": [],
   "source": [
    "device = torch.device(\"cuda\" if torch.cuda.is_available() else \"cpu\")"
   ]
  },
  {
   "cell_type": "markdown",
   "metadata": {},
   "source": [
    "## Preparing the data"
   ]
  },
  {
   "cell_type": "code",
   "execution_count": 3,
   "metadata": {},
   "outputs": [],
   "source": [
    "data = fetch_california_housing()\n",
    "X, y = data.data, data.target\n",
    "\n",
    "X_train, X_test, y_train, y_test = train_test_split(X, y, test_size=0.2, random_state=42)\n",
    "\n",
    "# Standardize the features\n",
    "scaler = StandardScaler()\n",
    "X_train = scaler.fit_transform(X_train)\n",
    "X_test = scaler.transform(X_test)\n"
   ]
  },
  {
   "cell_type": "code",
   "execution_count": 4,
   "metadata": {},
   "outputs": [
    {
     "data": {
      "text/plain": [
       "(16512, 8)"
      ]
     },
     "execution_count": 4,
     "metadata": {},
     "output_type": "execute_result"
    }
   ],
   "source": [
    "X_train.shape"
   ]
  },
  {
   "cell_type": "code",
   "execution_count": 5,
   "metadata": {},
   "outputs": [
    {
     "data": {
      "text/plain": [
       "(4128, 8)"
      ]
     },
     "execution_count": 5,
     "metadata": {},
     "output_type": "execute_result"
    }
   ],
   "source": [
    "X_test.shape"
   ]
  },
  {
   "cell_type": "code",
   "execution_count": 6,
   "metadata": {},
   "outputs": [
    {
     "data": {
      "text/plain": [
       "(16512,)"
      ]
     },
     "execution_count": 6,
     "metadata": {},
     "output_type": "execute_result"
    }
   ],
   "source": [
    "y_train.shape"
   ]
  },
  {
   "cell_type": "code",
   "execution_count": 4,
   "metadata": {},
   "outputs": [],
   "source": [
    "toTensorTransform = transforms.Lambda(lambda x: torch.tensor(x, dtype=torch.float32))"
   ]
  },
  {
   "cell_type": "code",
   "execution_count": 8,
   "metadata": {},
   "outputs": [
    {
     "data": {
      "text/plain": [
       "6"
      ]
     },
     "execution_count": 8,
     "metadata": {},
     "output_type": "execute_result"
    }
   ],
   "source": [
    "class A:\n",
    "    def __len__(self):\n",
    "        return 3\n",
    "    \n",
    "    def __getitem__(self, index):\n",
    "        return index\n",
    "\n",
    "a = A()\n",
    "# len(a)\n",
    "a[6]"
   ]
  },
  {
   "cell_type": "code",
   "execution_count": 33,
   "metadata": {},
   "outputs": [],
   "source": [
    "# Create a custom PyTorch dataset\n",
    "class CaliforniaHousingDataset(Dataset):\n",
    "    def __init__(self, features, targets, transform=None, target_transform=None):\n",
    "        self.features = features\n",
    "        self.targets = targets\n",
    "        self.transform = transform\n",
    "        self.target_transform = target_transform\n",
    "\n",
    "    def __len__(self):\n",
    "        return len(self.features)\n",
    "\n",
    "    def __getitem__(self, index):\n",
    "        x = self.features[index]\n",
    "        y = self.targets[index]\n",
    "        if self.transform:\n",
    "            x = self.transform(x)\n",
    "        if self.target_transform:\n",
    "            y = self.target_transform(y)\n",
    "        return x, y "
   ]
  },
  {
   "cell_type": "code",
   "execution_count": 10,
   "metadata": {},
   "outputs": [
    {
     "data": {
      "text/plain": [
       "(tensor([ 1.4399, -0.6831,  0.3548, -0.2030,  1.1157,  0.0231,  0.8316, -1.1357]),\n",
       " tensor(2.6480))"
      ]
     },
     "execution_count": 10,
     "metadata": {},
     "output_type": "execute_result"
    }
   ],
   "source": [
    "train_dataset = CaliforniaHousingDataset(X_train, y_train, transform=toTensorTransform, target_transform=toTensorTransform)\n",
    "len(train_dataset)\n",
    "train_dataset[5]"
   ]
  },
  {
   "cell_type": "code",
   "execution_count": 13,
   "metadata": {},
   "outputs": [
    {
     "data": {
      "text/plain": [
       "tensor([[ 1.6220],\n",
       "        [-1.0400],\n",
       "        [ 0.5438],\n",
       "        [ 0.6756],\n",
       "        [-0.4543],\n",
       "        [ 1.7040],\n",
       "        [ 0.6583],\n",
       "        [ 0.5469],\n",
       "        [-0.8871],\n",
       "        [-0.4400]])"
      ]
     },
     "execution_count": 13,
     "metadata": {},
     "output_type": "execute_result"
    }
   ],
   "source": [
    "torch.randn(10).view(-1, 1)"
   ]
  },
  {
   "cell_type": "code",
   "execution_count": 34,
   "metadata": {},
   "outputs": [],
   "source": [
    "# Create instances of the custom dataset\n",
    "train_dataset = CaliforniaHousingDataset(X_train, y_train, transform=toTensorTransform, \n",
    "                                         target_transform=transforms.Lambda(lambda x: torch.tensor(x, dtype=torch.float32).unsqueeze(0)))\n",
    "test_dataset = CaliforniaHousingDataset(X_test, y_test, transform=toTensorTransform, \n",
    "                                        target_transform=transforms.Lambda(lambda x: torch.tensor(x, dtype=torch.float32).unsqueeze(0)))\n",
    "\n",
    "# Create PyTorch data loaders\n",
    "train_loader = DataLoader(train_dataset, batch_size=64, shuffle=True)\n",
    "test_loader = DataLoader(test_dataset, batch_size=64, shuffle=False)"
   ]
  },
  {
   "cell_type": "code",
   "execution_count": 35,
   "metadata": {},
   "outputs": [
    {
     "name": "stdout",
     "output_type": "stream",
     "text": [
      "torch.Size([64, 1])\n"
     ]
    }
   ],
   "source": [
    "for data, target in train_loader:\n",
    "    print(target.size())\n",
    "    break"
   ]
  },
  {
   "cell_type": "markdown",
   "metadata": {},
   "source": [
    "## Building your model"
   ]
  },
  {
   "cell_type": "code",
   "execution_count": 13,
   "metadata": {},
   "outputs": [],
   "source": [
    "class MyLinear(nn.Module):\n",
    "\n",
    "    def __init__(self, in_f, out_f, bias=True, *args, **kwargs):\n",
    "        super().__init__(*args, **kwargs)\n",
    "        self.bias = bias\n",
    "        self.w = nn.parameter.Parameter(torch.empty(out_f, in_f))\n",
    "        if bias:\n",
    "            self.b = nn.parameter.Parameter(torch.empty(out_f)) \n",
    "        self.reset_params()   ### initialization paramters\n",
    "    \n",
    "    def reset_params(self):\n",
    "        nn.init.kaiming_normal_(self.w, nonlinearity=\"relu\")\n",
    "        if self.bias:\n",
    "            nn.init.constant_(self.b, 0)\n",
    "\n",
    "    def forward(self, x):\n",
    "        return F.linear(x, self.w, self.b)"
   ]
  },
  {
   "cell_type": "code",
   "execution_count": 28,
   "metadata": {},
   "outputs": [],
   "source": [
    "def build_model(input_size, hidden_size, output_size):\n",
    "    model = nn.Sequential(nn.Linear(input_size, hidden_size), \n",
    "                           nn.ReLU(),\n",
    "                           nn.Linear(hidden_size, hidden_size), \n",
    "                           nn.ReLU(),  \n",
    "                           nn.Linear(hidden_size, output_size))\n",
    "    return model"
   ]
  },
  {
   "cell_type": "markdown",
   "metadata": {},
   "source": [
    "# Train & Test"
   ]
  },
  {
   "cell_type": "code",
   "execution_count": 29,
   "metadata": {},
   "outputs": [],
   "source": [
    "### custom LOSS function\n",
    "\n",
    "class HuberLoss(nn.Module):   ### MSE <> MAE\n",
    "    def __init__(self, delta=1.0):\n",
    "        super().__init__()\n",
    "        self.delta = delta\n",
    "\n",
    "    def forward(self, predicted, target):\n",
    "        residual = torch.abs(predicted - target)\n",
    "        loss = torch.where(residual < self.delta, 0.5 * residual**2, self.delta * (residual - 0.5 * self.delta))\n",
    "        return torch.mean(loss)"
   ]
  },
  {
   "cell_type": "code",
   "execution_count": 30,
   "metadata": {},
   "outputs": [],
   "source": [
    "num_epochs = 30\n",
    "\n",
    "model = build_model(8, 200, 1)\n",
    "model.to(device)\n",
    "\n",
    "criterion = nn.MSELoss()\n",
    "optimizer = optim.Adam(model.parameters(), lr=1e-3)"
   ]
  },
  {
   "cell_type": "code",
   "execution_count": 43,
   "metadata": {},
   "outputs": [
    {
     "name": "stdout",
     "output_type": "stream",
     "text": [
      "salam aleikom\n",
      "payan context manager\n",
      "maA salam\n"
     ]
    }
   ],
   "source": [
    "class B:\n",
    "    def salam_aleikom(self):\n",
    "        print(\"salam aleikom\")\n",
    "\n",
    "    def __enter__(self):\n",
    "        return self\n",
    "    \n",
    "    def __exit__(self, *args, **kwargs):\n",
    "        print(\"maA salam\")\n",
    "    \n",
    "with B() as b:\n",
    "    b.salam_aleikom()\n",
    "    print(\"payan context manager\")"
   ]
  },
  {
   "cell_type": "code",
   "execution_count": 44,
   "metadata": {},
   "outputs": [
    {
     "name": "stderr",
     "output_type": "stream",
     "text": [
      "[Epoch: 1/30]:   1%|          | 3/258 [00:00<00:18, 14.08it/s, avg_epoch_loss=0.4652]"
     ]
    },
    {
     "name": "stderr",
     "output_type": "stream",
     "text": [
      "                                                                                        \r"
     ]
    },
    {
     "name": "stdout",
     "output_type": "stream",
     "text": [
      "Epoch [10/30]: loss train: 0.296, validation: 0.300\n"
     ]
    },
    {
     "name": "stderr",
     "output_type": "stream",
     "text": [
      "                                                                                        \r"
     ]
    },
    {
     "name": "stdout",
     "output_type": "stream",
     "text": [
      "Epoch [20/30]: loss train: 0.271, validation: 0.283\n"
     ]
    },
    {
     "name": "stderr",
     "output_type": "stream",
     "text": [
      "                                                                                        \r"
     ]
    },
    {
     "name": "stdout",
     "output_type": "stream",
     "text": [
      "Epoch [30/30]: loss train: 0.255, validation: 0.273\n"
     ]
    }
   ],
   "source": [
    "train_history = []\n",
    "validation_history = []\n",
    "\n",
    "for epoch in range(num_epochs):\n",
    "\n",
    "    model.train()\n",
    "    losses = []\n",
    "    \n",
    "    with tqdm(train_loader, leave=False) as bar:\n",
    "        bar.set_description(f\"[Epoch: {epoch + 1}/{num_epochs}]\")\n",
    "        \n",
    "        for batch_idx, (data, target) in enumerate(bar):\n",
    "\n",
    "            data = data.to(device)\n",
    "            target = target.to(device)\n",
    "\n",
    "            output = model(data)\n",
    "\n",
    "            loss = criterion(output, target)\n",
    "            \n",
    "            optimizer.zero_grad()\n",
    "            loss.backward()\n",
    "            optimizer.step()\n",
    "\n",
    "            losses.append(loss.item())\n",
    "            bar.set_postfix(avg_epoch_loss=f\"{sum(losses)/len(losses):.4f}\")\n",
    "    train_history.append(sum(losses)/len(losses))\n",
    "        \n",
    "    model.eval()\n",
    "    running_testloss = 0.0\n",
    "\n",
    "    with torch.no_grad():\n",
    "        for i, (test_data, test_label) in enumerate(test_loader):\n",
    "            test_output = model(test_data)\n",
    "            vloss = criterion(test_output, test_label)\n",
    "            running_testloss += vloss.item()\n",
    "        avg_vloss = running_testloss / (i + 1)\n",
    "        validation_history.append(avg_vloss)\n",
    "        if epoch % 10 == 9:\n",
    "            print(f'Epoch [{epoch + 1}/{num_epochs}]: loss train: {sum(losses)/len(losses):.3f}, validation: {avg_vloss:.3f}')"
   ]
  },
  {
   "cell_type": "code",
   "execution_count": 45,
   "metadata": {},
   "outputs": [
    {
     "name": "stdout",
     "output_type": "stream",
     "text": [
      "y_true tensor([[0.4770],\n",
      "        [0.4580],\n",
      "        [5.0000],\n",
      "        [2.1860],\n",
      "        [2.7800],\n",
      "        [1.5870],\n",
      "        [1.9820],\n",
      "        [1.5750],\n",
      "        [3.4000],\n",
      "        [4.4660]])\n",
      "y_pred tensor([[0.4906],\n",
      "        [1.0312],\n",
      "        [5.0642],\n",
      "        [2.5720],\n",
      "        [2.7891],\n",
      "        [1.6766],\n",
      "        [2.4047],\n",
      "        [1.6269],\n",
      "        [2.5859],\n",
      "        [4.7013]])\n"
     ]
    }
   ],
   "source": [
    "with torch.no_grad():\n",
    "    for data, target in test_loader:\n",
    "        y_pred = model(data[:10])\n",
    "        print(\"y_true\", target[:10])\n",
    "        print(\"y_pred\", y_pred)\n",
    "        break"
   ]
  },
  {
   "cell_type": "code",
   "execution_count": null,
   "metadata": {},
   "outputs": [],
   "source": [
    "k = 4\n",
    "num_val_samples = len(train_dataset) // k\n",
    "num_epochs = 100"
   ]
  },
  {
   "cell_type": "code",
   "execution_count": 46,
   "metadata": {},
   "outputs": [
    {
     "data": {
      "text/plain": [
       "<matplotlib.legend.Legend at 0x7f200fa75f70>"
      ]
     },
     "execution_count": 46,
     "metadata": {},
     "output_type": "execute_result"
    },
    {
     "data": {
      "image/png": "[encoded data removed]",
      "text/plain": [
       "<Figure size 800x500 with 1 Axes>"
      ]
     },
     "metadata": {},
     "output_type": "display_data"
    }
   ],
   "source": [
    "import matplotlib.pyplot as plt\n",
    "\n",
    "fig, ax = plt.subplots(figsize=(8, 5))\n",
    "ax.plot(train_history, label=\"train_loss\")\n",
    "ax.plot(validation_history, label=\"validation_loss\")\n",
    "ax.set_title(\"train vs validation loss\")\n",
    "ax.set_ylabel('Loss')\n",
    "ax.set_xlabel('epochs')\n",
    "ax.grid()\n",
    "ax.legend(loc='upper right')"
   ]
  }
 ],
 "metadata": {
  "kernelspec": {
   "display_name": "venv",
   "language": "python",
   "name": "python3"
  },
  "language_info": {
   "codemirror_mode": {
    "name": "ipython",
    "version": 3
   },
   "file_extension": ".py",
   "mimetype": "text/x-python",
   "name": "python",
   "nbconvert_exporter": "python",
   "pygments_lexer": "ipython3",
   "version": "3.8.10"
  }
 },
 "nbformat": 4,
 "nbformat_minor": 2
}
