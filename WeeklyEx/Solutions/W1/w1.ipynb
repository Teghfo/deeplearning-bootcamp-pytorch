{
 "cells": [
  {
   "cell_type": "code",
   "execution_count": 1,
   "metadata": {},
   "outputs": [],
   "source": [
    "import numpy as np\n",
    "import torch"
   ]
  },
  {
   "cell_type": "markdown",
   "metadata": {},
   "source": [
    "1. Create two random tensors with shapes (6, 5) and (1, 5), and perform a matrix multiplication on these tensors."
   ]
  },
  {
   "cell_type": "code",
   "execution_count": 118,
   "metadata": {},
   "outputs": [
    {
     "name": "stdout",
     "output_type": "stream",
     "text": [
      "tensor([[ 1.2771],\n",
      "        [-3.1890],\n",
      "        [-3.3020],\n",
      "        [-1.6132],\n",
      "        [-2.5010],\n",
      "        [-1.4270]])\n"
     ]
    }
   ],
   "source": [
    "# Set the random seed so things are predictable\n",
    "torch.random.manual_seed(42)\n",
    "\n",
    "# Create random tensors\n",
    "tensor1 = torch.randn(6, 5)\n",
    "tensor2 = torch.randn(1, 5)\n",
    "\n",
    "# Perform matrix multiplication\n",
    "# result = tensor1 @ tensor2.t()\n",
    "# result = torch.mm(tensor1, tensor2.t())\n",
    "result = torch.matmul(tensor1, tensor2.t())\n",
    "\n",
    "# Print the result\n",
    "print(result)"
   ]
  },
  {
   "cell_type": "code",
   "execution_count": 66,
   "metadata": {},
   "outputs": [
    {
     "data": {
      "text/plain": [
       "tensor([[-1.3076,  0.9676,  0.2162,  0.9594,  0.1784, -0.1793, -0.5584, -0.8804,\n",
       "         -0.9581, -0.7895],\n",
       "        [ 1.5681,  1.5774, -0.4480,  1.8764,  0.9119, -1.6227,  0.6528,  0.4743,\n",
       "         -1.1011, -0.5321],\n",
       "        [-0.5346, -1.4052, -0.7136, -1.6181, -0.9208, -0.9451, -1.3551, -1.0257,\n",
       "         -0.8582, -0.4748]])"
      ]
     },
     "execution_count": 66,
     "metadata": {},
     "output_type": "execute_result"
    }
   ],
   "source": [
    "tensor1.reshape(3, 10)"
   ]
  },
  {
   "cell_type": "code",
   "execution_count": 87,
   "metadata": {},
   "outputs": [
    {
     "data": {
      "text/plain": [
       "torch.Size([2, 4, 5])"
      ]
     },
     "execution_count": 87,
     "metadata": {},
     "output_type": "execute_result"
    }
   ],
   "source": [
    "torch.random.manual_seed(42)\n",
    "\n",
    "tensor1 = torch.arange(40).view(4, 5, 2)\n",
    "\n",
    "# print(tensor1)\n",
    "tensor1.permute(2, 1, 0).shape"
   ]
  },
  {
   "cell_type": "markdown",
   "metadata": {},
   "source": [
    "2. Given the provided code for generating data, create a simple Python function or class that multiplies the generated features tensor by the corresponding weights tensor and adds the bias term. Assume that the function/class takes the features, weights, and bias tensors as inputs and returns the result of the linear operation. Provide an example of using this function/class with the generated data."
   ]
  },
  {
   "cell_type": "code",
   "execution_count": 88,
   "metadata": {},
   "outputs": [
    {
     "name": "stdout",
     "output_type": "stream",
     "text": [
      "tensor([[-1.6619]])\n"
     ]
    }
   ],
   "source": [
    "# Generate some data\n",
    "torch.manual_seed(7)  # Set the random seed so things are predictable\n",
    "\n",
    "# Features are 3 random normal variables\n",
    "features = torch.randn((1, 5))\n",
    "# True weights for our data, random normal variables again\n",
    "weights = torch.randn_like(features)\n",
    "# and a true bias term\n",
    "bias = torch.randn((1, 1))\n",
    "\n",
    "def linear_operation(features, weights, bias):\n",
    "    # Perform linear operation\n",
    "    result = torch.matmul(features, weights.t()) + bias\n",
    "    return result\n",
    "\n",
    "\n",
    "# Perform linear operation using the function\n",
    "output = linear_operation(features, weights, bias)\n",
    "\n",
    "print(output)"
   ]
  },
  {
   "cell_type": "markdown",
   "metadata": {},
   "source": [
    "3. Find the maximum and minimum values as well as the corresponding index values in the output of task 1."
   ]
  },
  {
   "cell_type": "code",
   "execution_count": 119,
   "metadata": {},
   "outputs": [
    {
     "name": "stdout",
     "output_type": "stream",
     "text": [
      "max: torch.return_types.max(\n",
      "values=tensor([1.2771]),\n",
      "indices=tensor([0]))\n",
      "min: tensor(-3.3020)\n",
      "argmax: tensor(0)\n",
      "argmin: tensor(2)\n"
     ]
    }
   ],
   "source": [
    "# Find max\n",
    "print('max:', torch.max(result, dim=0))\n",
    "\n",
    "# Find min\n",
    "print('min:', torch.min(result))\n",
    "\n",
    "# Find arg max\n",
    "\n",
    "print('argmax:', torch.argmax(result))\n",
    "\n",
    "# Find arg min\n",
    "print('argmin:', torch.argmin(result))"
   ]
  },
  {
   "cell_type": "markdown",
   "metadata": {},
   "source": [
    "4. Generate a unique tensor with dimensions (1, 1, 1, 25), and subsequently transform it into a new tensor by removing all singleton dimensions, resulting in a tensor with shape (25)."
   ]
  },
  {
   "cell_type": "code",
   "execution_count": 103,
   "metadata": {},
   "outputs": [
    {
     "name": "stdout",
     "output_type": "stream",
     "text": [
      "torch.Size([25])\n"
     ]
    }
   ],
   "source": [
    "# Generate the initial tensor with shape (1, 1, 1, 25)\n",
    "initial_tensor = torch.randn(1, 1, 1, 25)\n",
    "\n",
    "# Remove singleton dimensions to obtain a tensor with shape (25)\n",
    "new_tensor = initial_tensor.squeeze()\n",
    "\n",
    "# Print the shape of the new tensor\n",
    "print(new_tensor.size())"
   ]
  },
  {
   "cell_type": "markdown",
   "metadata": {},
   "source": [
    "5. Create a 1D tensor of size 5 with value ranging from 1 to 5. Reshape the 1D tensor into a 2D tensor of shape (1, 5)"
   ]
  },
  {
   "cell_type": "code",
   "execution_count": 106,
   "metadata": {},
   "outputs": [
    {
     "name": "stdout",
     "output_type": "stream",
     "text": [
      "Shape of the 2D tensor: torch.Size([1, 5])\n",
      "Values of the 2D tensor: tensor([[1, 2, 3, 4, 5]])\n"
     ]
    }
   ],
   "source": [
    "# Create the 1D tensor with values ranging from 1 to 5\n",
    "tensor_1d = torch.arange(1, 6)\n",
    "\n",
    "# Reshape the 1D tensor into a 2D tensor of shape (1, 5)\n",
    "# tensor_2d = tensor_1d.reshape(1, 5)\n",
    "# tensor_2d = tensor_1d.view(1, 5)\n",
    "tensor_2d = tensor_1d.unsqueeze(0)\n",
    "\n",
    "# Print the shape and values of the 2D tensor\n",
    "print(\"Shape of the 2D tensor:\", tensor_2d.shape)\n",
    "print(\"Values of the 2D tensor:\", tensor_2d)"
   ]
  },
  {
   "cell_type": "code",
   "execution_count": 113,
   "metadata": {},
   "outputs": [
    {
     "data": {
      "text/plain": [
       "tensor([[True],\n",
       "        [True],\n",
       "        [True],\n",
       "        [True],\n",
       "        [True]])"
      ]
     },
     "execution_count": 113,
     "metadata": {},
     "output_type": "execute_result"
    }
   ],
   "source": [
    "tensor_1d[:, None] == tensor_1d.unsqueeze(1)"
   ]
  },
  {
   "cell_type": "code",
   "execution_count": 108,
   "metadata": {},
   "outputs": [
    {
     "data": {
      "text/plain": [
       "torch.Size([1, 5])"
      ]
     },
     "execution_count": 108,
     "metadata": {},
     "output_type": "execute_result"
    }
   ],
   "source": [
    "tensor_1d[None, :].shape"
   ]
  },
  {
   "cell_type": "markdown",
   "metadata": {},
   "source": [
    "6. Create two 2D tensors of shape (2, 3) and perform element-wise addition."
   ]
  },
  {
   "cell_type": "code",
   "execution_count": 114,
   "metadata": {},
   "outputs": [
    {
     "name": "stdout",
     "output_type": "stream",
     "text": [
      "tensor([[ 8, 10, 12],\n",
      "        [14, 16, 18]])\n"
     ]
    }
   ],
   "source": [
    "# Create the first 2D tensor\n",
    "tensor1 = torch.tensor([[1, 2, 3], [4, 5, 6]])\n",
    "\n",
    "# Create the second 2D tensor\n",
    "tensor2 = torch.tensor([[7, 8, 9], [10, 11, 12]])\n",
    "\n",
    "# Perform element-wise addition of the two tensors\n",
    "result = tensor1 + tensor2\n",
    "\n",
    "# Print the resulting tensor\n",
    "print(result)"
   ]
  },
  {
   "cell_type": "markdown",
   "metadata": {},
   "source": [
    "7. Create a 2D tensor of shape (4, 4) filled with random values. Extract the first row and the last column as seperate tensors."
   ]
  },
  {
   "cell_type": "code",
   "execution_count": 18,
   "metadata": {},
   "outputs": [
    {
     "name": "stdout",
     "output_type": "stream",
     "text": [
      "First Row:\n",
      "tensor([ 1.9269,  1.4873,  0.9007, -2.1055])\n",
      "\n",
      "Last Column:\n",
      "tensor([-2.1055, -1.6047, -1.4036,  0.7624])\n"
     ]
    }
   ],
   "source": [
    "torch.manual_seed(42)\n",
    "\n",
    "# Create a 2D tensor of shape (4, 4) with random values\n",
    "tensor_2d = torch.randn(4, 4)\n",
    "\n",
    "# Extract the first row as a separate tensor\n",
    "first_row = tensor_2d[0, :]\n",
    "\n",
    "# Extract the last column as a separate tensor\n",
    "last_column = tensor_2d[:, -1]\n",
    "\n",
    "# Print the first row and last column tensors\n",
    "print(\"First Row:\")\n",
    "print(first_row)\n",
    "\n",
    "print(\"\\nLast Column:\")\n",
    "print(last_column)"
   ]
  },
  {
   "cell_type": "markdown",
   "metadata": {},
   "source": [
    "8. Create a 2D tensor of shape (3, 3) and a 1D tensor of shape (3,). Add the 1D tensor to each row of the 2D tensor using broadcasting."
   ]
  },
  {
   "cell_type": "code",
   "execution_count": 141,
   "metadata": {},
   "outputs": [
    {
     "name": "stdout",
     "output_type": "stream",
     "text": [
      "tensor([[11, 12, 13],\n",
      "        [24, 25, 26],\n",
      "        [37, 38, 39]])\n"
     ]
    }
   ],
   "source": [
    "# Create a 2D tensor of shape (3, 3)\n",
    "tensor_2d = torch.tensor([[1, 2, 3],\n",
    "                          [4, 5, 6],\n",
    "                          [7, 8, 9]])\n",
    "\n",
    "# Create a 1D tensor of shape (3,)\n",
    "tensor_1d = torch.tensor([10, 20, 30])\n",
    "\n",
    "# Add the 1D tensor to each row of the 2D tensor using broadcasting\n",
    "# result = tensor_2d + tensor_1d[:, None]\n",
    "result = tensor_2d + tensor_1d.unsqueeze(1)\n",
    "# result = tensor_2d + tensor_1d\n",
    "\n",
    "# Print the resulting tensor\n",
    "print(result)"
   ]
  },
  {
   "cell_type": "code",
   "execution_count": 140,
   "metadata": {},
   "outputs": [
    {
     "data": {
      "text/plain": [
       "tensor([[0],\n",
       "        [1],\n",
       "        [2],\n",
       "        [3],\n",
       "        [4],\n",
       "        [5],\n",
       "        [6],\n",
       "        [7],\n",
       "        [8],\n",
       "        [9]])"
      ]
     },
     "execution_count": 140,
     "metadata": {},
     "output_type": "execute_result"
    }
   ],
   "source": [
    "tensor_edris = torch.arange(10).unsqueeze(1)\n",
    "tensor_edris"
   ]
  },
  {
   "cell_type": "code",
   "execution_count": 146,
   "metadata": {},
   "outputs": [
    {
     "name": "stdout",
     "output_type": "stream",
     "text": [
      "++++++++++\n",
      "tensor([[[-1.4477, -0.5346],\n",
      "         [ 0.4590,  1.0935]],\n",
      "\n",
      "        [[-0.2637, -0.2296],\n",
      "         [ 2.2003, -0.7842]],\n",
      "\n",
      "        [[-2.3885,  1.1878],\n",
      "         [-0.0755,  0.8630]]])\n",
      "++++++++++\n",
      "++++++++++\n",
      "tensor([[[ 1.1685,  1.6792],\n",
      "         [-0.2999,  0.5672]],\n",
      "\n",
      "        [[-0.6570,  0.2300],\n",
      "         [ 0.1725,  1.0249]],\n",
      "\n",
      "        [[ 0.2223, -0.7381],\n",
      "         [-0.9258, -1.3517]]])\n",
      "++++++++++\n",
      "tensor([[[-1.5312, -2.7343],\n",
      "         [ 0.2084,  1.3912]],\n",
      "\n",
      "        [[ 0.1337, -0.2959],\n",
      "         [-1.5809, -0.2978]],\n",
      "\n",
      "        [[-1.6307,  0.1575],\n",
      "         [-0.8158, -1.1108]]])\n"
     ]
    }
   ],
   "source": [
    "# Create the input tensors\n",
    "batch_size = 3\n",
    "matrix_size_row = 2\n",
    "matrix_size_column = 2\n",
    "\n",
    "# Input tensor 1 of shape (batch_size, matrix_size, matrix_size)\n",
    "tensor1 = torch.randn(batch_size, matrix_size_row, matrix_size_column)\n",
    "print(\"+\"*10)\n",
    "print(tensor1)\n",
    "print(\"+\"*10)\n",
    "\n",
    "# Input tensor 2 of shape (batch_size, matrix_size, matrix_size)\n",
    "tensor2 = torch.randn(batch_size, matrix_size_row, matrix_size_column)\n",
    "print(\"+\"*10)\n",
    "print(tensor2)\n",
    "print(\"+\"*10)\n",
    "\n",
    "# Perform batch multiplication using torch.bmm()\n",
    "result = torch.bmm(tensor1, tensor2)\n",
    "\n",
    "# Print the result\n",
    "print(result)"
   ]
  },
  {
   "cell_type": "code",
   "execution_count": 153,
   "metadata": {},
   "outputs": [],
   "source": [
    "def bmm(tensor1, tensor2):\n",
    "    batch_size, n, m1 = tensor1.size()\n",
    "    _, m2, p = tensor2.size()\n",
    "\n",
    "    assert m1==m2, \"zarb momken nis\"\n",
    "\n",
    "    tenso\n",
    "\n",
    "    result = torch.zeros(batch_size, n, p)\n",
    "\n",
    "    for i in range(batch_size):\n",
    "        result[i] = torch.mm(tensor1[i], tensor2[i])\n",
    "\n",
    "    return result"
   ]
  },
  {
   "cell_type": "code",
   "execution_count": 154,
   "metadata": {},
   "outputs": [
    {
     "data": {
      "text/plain": [
       "tensor([[[-1.5312, -2.7343],\n",
       "         [ 0.2084,  1.3912]],\n",
       "\n",
       "        [[ 0.1337, -0.2959],\n",
       "         [-1.5809, -0.2978]],\n",
       "\n",
       "        [[-1.6307,  0.1575],\n",
       "         [-0.8158, -1.1108]]])"
      ]
     },
     "execution_count": 154,
     "metadata": {},
     "output_type": "execute_result"
    }
   ],
   "source": [
    "bmm(tensor1, tensor2)"
   ]
  }
 ],
 "metadata": {
  "kernelspec": {
   "display_name": "venv",
   "language": "python",
   "name": "python3"
  },
  "language_info": {
   "codemirror_mode": {
    "name": "ipython",
    "version": 3
   },
   "file_extension": ".py",
   "mimetype": "text/x-python",
   "name": "python",
   "nbconvert_exporter": "python",
   "pygments_lexer": "ipython3",
   "version": "3.9.6"
  }
 },
 "nbformat": 4,
 "nbformat_minor": 2
}
